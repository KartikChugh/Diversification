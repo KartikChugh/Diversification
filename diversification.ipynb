{
 "metadata": {
  "language_info": {
   "codemirror_mode": {
    "name": "ipython",
    "version": 3
   },
   "file_extension": ".py",
   "mimetype": "text/x-python",
   "name": "python",
   "nbconvert_exporter": "python",
   "pygments_lexer": "ipython3",
   "version": "3.7.4-final"
  },
  "orig_nbformat": 2,
  "kernelspec": {
   "name": "python374jvsc74a57bd0b3ba2566441a7c06988d0923437866b63cedc61552a5af99d1f4fb67d367b25f",
   "display_name": "Python 3.7.4 64-bit (conda)"
  }
 },
 "nbformat": 4,
 "nbformat_minor": 2,
 "cells": [
  {
   "source": [
    "## Diversification"
   ],
   "cell_type": "markdown",
   "metadata": {}
  },
  {
   "source": [
    "Marco the Merchant has \\$40 of gold at home, and \\$80 abroad, kept in a safe haven at Isla Del Rosa. Ready to settle down and enjoy a lavish lifestyle, he plans on sending out ships to retrieve his loot!\n",
    "\n",
    "$p(\\text{perish}) = 0.5$"
   ],
   "cell_type": "markdown",
   "metadata": {}
  },
  {
   "source": [
    "### 1 ship\n",
    "\n",
    "$$ \\tilde{w_1}: <40, 120; \\frac{1}{2}, \\frac{1}{2}> $$\n",
    "$$ \\mu_1 =  \\frac{1}{2}40 + \\frac{1}{2}120 = 80 $$"
   ],
   "cell_type": "markdown",
   "metadata": {}
  },
  {
   "source": [
    "### 2 ships\n",
    "\n",
    "$$ \\tilde{w_2}: <40, 80, 120; \\frac{1}{4}, \\frac{1}{2}, \\frac{1}{4}> $$\n",
    "$$ \\mu_2 =  \\frac{1}{4}40 + \\frac{1}{2}80 + \\frac{1}{4}120 = 80 $$"
   ],
   "cell_type": "markdown",
   "metadata": {}
  },
  {
   "source": [
    "#### Expected Utilities\n",
    "\n",
    "$$ Eu(\\tilde{w_1}) = \\frac{1}{2}\\ln(40) + \\frac{1}{2}\\ln(120) = \\frac{1}{2}\\ln(4800) \\approx 4.2 $$\n",
    "$$ Eu(\\tilde{w_2}) = \\frac{1}{4}\\ln(40) + \\frac{1}{2}\\ln(80) + \\frac{1}{4}\\ln(120) = \\frac{1}{4}\\ln(30720000) \\approx 4.3 $$\n",
    "\n",
    "We can see that $u_1 = u_2$, but $Eu(\\tilde{w_1}) < Eu(\\tilde{w_2})$\n"
   ],
   "cell_type": "markdown",
   "metadata": {}
  }
 ]
}